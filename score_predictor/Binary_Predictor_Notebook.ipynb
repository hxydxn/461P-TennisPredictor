{
 "cells": [
  {
   "cell_type": "code",
   "execution_count": 2,
   "id": "d0ea0d11",
   "metadata": {},
   "outputs": [],
   "source": [
    "\n",
    "import pandas as pd\n",
    "from sklearn.model_selection import train_test_split\n",
    "from sklearn.preprocessing import StandardScaler\n",
    "from sklearn.decomposition import PCA\n",
    "from sklearn.linear_model import LogisticRegression\n",
    "from sklearn.pipeline import make_pipeline\n",
    "from sklearn.metrics import accuracy_score, classification_report\n",
    "import matplotlib.pyplot as plt\n",
    "import joblib\n",
    "    "
   ]
  },
  {
   "cell_type": "code",
   "execution_count": 3,
   "id": "e61780f5",
   "metadata": {},
   "outputs": [],
   "source": [
    "\n",
    "# Load the datasets\n",
    "data_pt1 = pd.read_csv('../output_videos/FULL_dataPT1.csv')\n",
    "data_pt2 = pd.read_csv('../output_videos/FULL_dataPT2.csv')\n",
    "data_pt3 = pd.read_csv('../output_videos/FULL_dataPT3.csv')\n",
    "\n",
    "# Combine the data into a single DataFrame\n",
    "combined_data = pd.concat([data_pt1, data_pt2, data_pt3], ignore_index=True)\n",
    "    "
   ]
  },
  {
   "cell_type": "code",
   "execution_count": 7,
   "id": "373e835d",
   "metadata": {},
   "outputs": [],
   "source": [
    "# Preprocess the data\n",
    "X = combined_data.drop(['point_winner', 'frame_completion_ratio'], axis=1)\n",
    "y = combined_data['point_winner']\n",
    "\n",
    "# Split the data\n",
    "X_train, X_test, y_train, y_test = train_test_split(X, y, test_size=0.4, random_state=42)"
   ]
  },
  {
   "cell_type": "code",
   "execution_count": null,
   "id": "051e394c",
   "metadata": {},
   "outputs": [],
   "source": [
    "scaler = StandardScaler()\n",
    "X_scaled = scaler.fit_transform(X)\n",
    "\n",
    "# Fit PCA\n",
    "pca = PCA()\n",
    "pca.fit(X_scaled)\n",
    "\n",
    "# Percentage of variance explained by each of the selected components\n",
    "variance = pca.explained_variance_ratio_\n",
    "\n",
    "# Plotting\n",
    "plt.figure(figsize=(10, 6))\n",
    "plt.bar(range(1, len(variance) + 1), variance, alpha=0.7, color='g', label='Individual explained variance')\n",
    "plt.step(range(1, len(variance) + 1), variance.cumsum(), where='mid', label='Cumulative explained variance')\n",
    "plt.ylabel('Explained variance ratio')\n",
    "plt.xlabel('Principal components')\n",
    "plt.title('Scree Plot of PCA')\n",
    "plt.legend(loc='best')\n",
    "plt.show()"
   ]
  },
  {
   "cell_type": "code",
   "execution_count": null,
   "id": "66289fa6",
   "metadata": {},
   "outputs": [],
   "source": [
    "# Create a pipeline with a scaler and logistic regression\n",
    "pipeline = make_pipeline(StandardScaler(), PCA(n_components=2), LogisticRegression())\n",
    "\n",
    "# Fit the model\n",
    "pipeline.fit(X_train, y_train)\n",
    "\n",
    "# Predict and evaluate\n",
    "y_pred = pipeline.predict(X_test)\n",
    "accuracy = accuracy_score(y_test, y_pred)\n",
    "report = classification_report(y_test, y_pred)\n",
    "\n",
    "print(\"Accuracy:\", accuracy)\n",
    "print(\"Report:\", report)\n",
    "    "
   ]
  },
  {
   "cell_type": "code",
   "execution_count": null,
   "id": "7f2f7d04",
   "metadata": {},
   "outputs": [],
   "source": [
    "\n",
    "# Save the model\n",
    "model_path = './logistic_regression_model.pth'\n",
    "joblib.dump(pipeline, model_path)\n",
    "    "
   ]
  },
  {
   "cell_type": "code",
   "execution_count": null,
   "id": "b3874a22",
   "metadata": {},
   "outputs": [],
   "source": [
    "model = joblib.load('./logistic_regression_model.pth')\n",
    "data = {\n",
    "            'player_shot_ball': 1,\n",
    "            'shot_speed': 41,\n",
    "            'player_1_position_x': 1693,\n",
    "            'player_1_position_y': 536,\n",
    "            'player_2_position_x': 1770,\n",
    "            'player_2_position_y': 72,\n",
    "            'player_serve': 2\n",
    "        }\n",
    "data_df = pd.DataFrame([data])\n",
    "print(model.predict_proba(data_df))\n",
    "model"
   ]
  }
 ],
 "metadata": {
  "kernelspec": {
   "display_name": "tennis",
   "language": "python",
   "name": "python3"
  },
  "language_info": {
   "codemirror_mode": {
    "name": "ipython",
    "version": 3
   },
   "file_extension": ".py",
   "mimetype": "text/x-python",
   "name": "python",
   "nbconvert_exporter": "python",
   "pygments_lexer": "ipython3",
   "version": "3.8.19"
  }
 },
 "nbformat": 4,
 "nbformat_minor": 5
}
